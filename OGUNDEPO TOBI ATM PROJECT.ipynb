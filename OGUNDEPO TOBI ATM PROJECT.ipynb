{
 "cells": [
  {
   "cell_type": "code",
   "execution_count": null,
   "id": "a23beefc",
   "metadata": {},
   "outputs": [
    {
     "name": "stdout",
     "output_type": "stream",
     "text": [
      "Welcome to CashOut\n",
      "Insert your card\n",
      "Enter you 4 digits pin to proceed3445\n",
      "1: Check Balance, 2: Withdraw2\n",
      "Enter the amount you would like to withdraw20\n",
      "20 # have been withdrawn from your account you have 80 remaining in your account\n",
      "Enter you 4 digits pin to proceed3445\n",
      "1: Check Balance, 2: Withdraw2\n",
      "Enter the amount you would like to withdraw40\n",
      "40 # have been withdrawn from your account you have 40 remaining in your account\n",
      "Enter you 4 digits pin to proceed3445\n",
      "1: Check Balance, 2: Withdraw2\n",
      "Enter the amount you would like to withdraw10\n",
      "10 # have been withdrawn from your account you have 30 remaining in your account\n",
      "Enter you 4 digits pin to proceed3445\n",
      "1: Check Balance, 2: Withdraw2\n",
      "Enter the amount you would like to withdraw30\n",
      "30 # have been withdrawn from your account you have 0 remaining in your account\n",
      "Enter you 4 digits pin to proceed3445\n",
      "1: Check Balance, 2: Withdraw2\n",
      "Enter the amount you would like to withdraw10\n",
      "Insufficient balance\n"
     ]
    }
   ],
   "source": [
    "print('Welcome to CashOut')\n",
    "print('Insert your card')\n",
    "Trials = 3\n",
    "Balance = 100\n",
    "Atm_pin =  3445\n",
    "\n",
    "while Trials != 0:\n",
    "    Pin = int(input('Enter you 10 digits pin to proceed'))\n",
    "    if Pin != Atm_pin:\n",
    "        Trials -= 1\n",
    "        print('Wrong pin number, you have', Trials, 'Trials left')\n",
    "    else:\n",
    "        intent = int(input('1: Check Balance, 2: Withdraw'))\n",
    "        if intent == 1:\n",
    "            print(Balance)\n",
    "        elif intent == 2:\n",
    "            Withdrawal = int(input('Enter the amount you would like to withdraw'))\n",
    "            if Withdrawal > Balance:\n",
    "                print('Insufficient balance')\n",
    "            else:\n",
    "                print(Withdrawal, '# have been withdrawn from your account', 'you have', Balance-Withdrawal, 'remaining in your account')\n",
    "            Balance -= Withdrawal"
   ]
  },
  {
   "cell_type": "code",
   "execution_count": null,
   "id": "1dfc12ca",
   "metadata": {},
   "outputs": [],
   "source": []
  }
 ],
 "metadata": {
  "kernelspec": {
   "display_name": "Python 3 (ipykernel)",
   "language": "python",
   "name": "python3"
  },
  "language_info": {
   "codemirror_mode": {
    "name": "ipython",
    "version": 3
   },
   "file_extension": ".py",
   "mimetype": "text/x-python",
   "name": "python",
   "nbconvert_exporter": "python",
   "pygments_lexer": "ipython3",
   "version": "3.9.7"
  }
 },
 "nbformat": 4,
 "nbformat_minor": 5
}
